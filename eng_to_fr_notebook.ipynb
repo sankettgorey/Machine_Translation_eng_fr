{
  "cells": [
    {
      "cell_type": "markdown",
      "metadata": {
        "id": "oYoE-vtT5N1r"
      },
      "source": [
        "### Neural Machine Translation using word level language model and embeddings in Keras"
      ]
    },
    {
      "cell_type": "code",
      "execution_count": null,
      "metadata": {
        "id": "uayqG3oS5N1z"
      },
      "outputs": [],
      "source": []
    },
    {
      "cell_type": "code",
      "execution_count": 1,
      "metadata": {
        "id": "0Bxv6cxY5N11"
      },
      "outputs": [],
      "source": [
        "import pandas as pd\n",
        "import numpy as np\n",
        "import string\n",
        "from string import digits\n",
        "import matplotlib.pyplot as plt\n",
        "%matplotlib inline\n",
        "import re\n",
        "from sklearn.model_selection import train_test_split\n",
        "# Building a english to french translator"
      ]
    },
    {
      "cell_type": "code",
      "execution_count": 1,
      "metadata": {
        "id": "GjCcY-Eg5N13"
      },
      "outputs": [],
      "source": []
    },
    {
      "cell_type": "code",
      "execution_count": 2,
      "metadata": {
        "colab": {
          "base_uri": "https://localhost:8080/"
        },
        "id": "wSqIIHvx5N13",
        "outputId": "0b3b6fd3-4a35-4fd5-acb9-e78cd68354fb"
      },
      "outputs": [
        {
          "output_type": "stream",
          "name": "stdout",
          "text": [
            "Mounted at /content/drive\n"
          ]
        }
      ],
      "source": [
        "from google.colab import drive\n",
        "drive.mount('/content/drive')"
      ]
    },
    {
      "cell_type": "code",
      "execution_count": 3,
      "metadata": {
        "id": "IzZ5rp8n5N15"
      },
      "outputs": [],
      "source": [
        "path = '/content/drive/MyDrive/Machine Translation Keras/fra.txt'"
      ]
    },
    {
      "cell_type": "code",
      "execution_count": 4,
      "metadata": {
        "id": "NCxOp15s5N16"
      },
      "outputs": [],
      "source": [
        "lines= pd.read_table(path, names=['eng', 'fr', 'exclude'])\n",
        "lines.drop('exclude', axis = 1, inplace = True)"
      ]
    },
    {
      "cell_type": "code",
      "execution_count": 5,
      "metadata": {
        "colab": {
          "base_uri": "https://localhost:8080/",
          "height": 206
        },
        "id": "JYX3H0-26YEE",
        "outputId": "0f3cecda-25ba-48ac-feb4-7d6362a2ca98"
      },
      "outputs": [
        {
          "output_type": "execute_result",
          "data": {
            "text/plain": [
              "    eng        fr\n",
              "0   Go.      Va !\n",
              "1   Hi.   Salut !\n",
              "2   Hi.    Salut.\n",
              "3  Run!   Cours !\n",
              "4  Run!  Courez !"
            ],
            "text/html": [
              "\n",
              "  <div id=\"df-e876c72f-f7be-4815-b744-a0fc0908d07d\">\n",
              "    <div class=\"colab-df-container\">\n",
              "      <div>\n",
              "<style scoped>\n",
              "    .dataframe tbody tr th:only-of-type {\n",
              "        vertical-align: middle;\n",
              "    }\n",
              "\n",
              "    .dataframe tbody tr th {\n",
              "        vertical-align: top;\n",
              "    }\n",
              "\n",
              "    .dataframe thead th {\n",
              "        text-align: right;\n",
              "    }\n",
              "</style>\n",
              "<table border=\"1\" class=\"dataframe\">\n",
              "  <thead>\n",
              "    <tr style=\"text-align: right;\">\n",
              "      <th></th>\n",
              "      <th>eng</th>\n",
              "      <th>fr</th>\n",
              "    </tr>\n",
              "  </thead>\n",
              "  <tbody>\n",
              "    <tr>\n",
              "      <th>0</th>\n",
              "      <td>Go.</td>\n",
              "      <td>Va !</td>\n",
              "    </tr>\n",
              "    <tr>\n",
              "      <th>1</th>\n",
              "      <td>Hi.</td>\n",
              "      <td>Salut !</td>\n",
              "    </tr>\n",
              "    <tr>\n",
              "      <th>2</th>\n",
              "      <td>Hi.</td>\n",
              "      <td>Salut.</td>\n",
              "    </tr>\n",
              "    <tr>\n",
              "      <th>3</th>\n",
              "      <td>Run!</td>\n",
              "      <td>Cours !</td>\n",
              "    </tr>\n",
              "    <tr>\n",
              "      <th>4</th>\n",
              "      <td>Run!</td>\n",
              "      <td>Courez !</td>\n",
              "    </tr>\n",
              "  </tbody>\n",
              "</table>\n",
              "</div>\n",
              "      <button class=\"colab-df-convert\" onclick=\"convertToInteractive('df-e876c72f-f7be-4815-b744-a0fc0908d07d')\"\n",
              "              title=\"Convert this dataframe to an interactive table.\"\n",
              "              style=\"display:none;\">\n",
              "        \n",
              "  <svg xmlns=\"http://www.w3.org/2000/svg\" height=\"24px\"viewBox=\"0 0 24 24\"\n",
              "       width=\"24px\">\n",
              "    <path d=\"M0 0h24v24H0V0z\" fill=\"none\"/>\n",
              "    <path d=\"M18.56 5.44l.94 2.06.94-2.06 2.06-.94-2.06-.94-.94-2.06-.94 2.06-2.06.94zm-11 1L8.5 8.5l.94-2.06 2.06-.94-2.06-.94L8.5 2.5l-.94 2.06-2.06.94zm10 10l.94 2.06.94-2.06 2.06-.94-2.06-.94-.94-2.06-.94 2.06-2.06.94z\"/><path d=\"M17.41 7.96l-1.37-1.37c-.4-.4-.92-.59-1.43-.59-.52 0-1.04.2-1.43.59L10.3 9.45l-7.72 7.72c-.78.78-.78 2.05 0 2.83L4 21.41c.39.39.9.59 1.41.59.51 0 1.02-.2 1.41-.59l7.78-7.78 2.81-2.81c.8-.78.8-2.07 0-2.86zM5.41 20L4 18.59l7.72-7.72 1.47 1.35L5.41 20z\"/>\n",
              "  </svg>\n",
              "      </button>\n",
              "      \n",
              "  <style>\n",
              "    .colab-df-container {\n",
              "      display:flex;\n",
              "      flex-wrap:wrap;\n",
              "      gap: 12px;\n",
              "    }\n",
              "\n",
              "    .colab-df-convert {\n",
              "      background-color: #E8F0FE;\n",
              "      border: none;\n",
              "      border-radius: 50%;\n",
              "      cursor: pointer;\n",
              "      display: none;\n",
              "      fill: #1967D2;\n",
              "      height: 32px;\n",
              "      padding: 0 0 0 0;\n",
              "      width: 32px;\n",
              "    }\n",
              "\n",
              "    .colab-df-convert:hover {\n",
              "      background-color: #E2EBFA;\n",
              "      box-shadow: 0px 1px 2px rgba(60, 64, 67, 0.3), 0px 1px 3px 1px rgba(60, 64, 67, 0.15);\n",
              "      fill: #174EA6;\n",
              "    }\n",
              "\n",
              "    [theme=dark] .colab-df-convert {\n",
              "      background-color: #3B4455;\n",
              "      fill: #D2E3FC;\n",
              "    }\n",
              "\n",
              "    [theme=dark] .colab-df-convert:hover {\n",
              "      background-color: #434B5C;\n",
              "      box-shadow: 0px 1px 3px 1px rgba(0, 0, 0, 0.15);\n",
              "      filter: drop-shadow(0px 1px 2px rgba(0, 0, 0, 0.3));\n",
              "      fill: #FFFFFF;\n",
              "    }\n",
              "  </style>\n",
              "\n",
              "      <script>\n",
              "        const buttonEl =\n",
              "          document.querySelector('#df-e876c72f-f7be-4815-b744-a0fc0908d07d button.colab-df-convert');\n",
              "        buttonEl.style.display =\n",
              "          google.colab.kernel.accessAllowed ? 'block' : 'none';\n",
              "\n",
              "        async function convertToInteractive(key) {\n",
              "          const element = document.querySelector('#df-e876c72f-f7be-4815-b744-a0fc0908d07d');\n",
              "          const dataTable =\n",
              "            await google.colab.kernel.invokeFunction('convertToInteractive',\n",
              "                                                     [key], {});\n",
              "          if (!dataTable) return;\n",
              "\n",
              "          const docLinkHtml = 'Like what you see? Visit the ' +\n",
              "            '<a target=\"_blank\" href=https://colab.research.google.com/notebooks/data_table.ipynb>data table notebook</a>'\n",
              "            + ' to learn more about interactive tables.';\n",
              "          element.innerHTML = '';\n",
              "          dataTable['output_type'] = 'display_data';\n",
              "          await google.colab.output.renderOutput(dataTable, element);\n",
              "          const docLink = document.createElement('div');\n",
              "          docLink.innerHTML = docLinkHtml;\n",
              "          element.appendChild(docLink);\n",
              "        }\n",
              "      </script>\n",
              "    </div>\n",
              "  </div>\n",
              "  "
            ]
          },
          "metadata": {},
          "execution_count": 5
        }
      ],
      "source": [
        "lines.head()"
      ]
    },
    {
      "cell_type": "code",
      "execution_count": 6,
      "metadata": {
        "colab": {
          "base_uri": "https://localhost:8080/"
        },
        "id": "CdDRsdh_dazX",
        "outputId": "f8b7d928-65e3-46f0-877c-ab3cd2550502"
      },
      "outputs": [
        {
          "output_type": "execute_result",
          "data": {
            "text/plain": [
              "(174481, 2)"
            ]
          },
          "metadata": {},
          "execution_count": 6
        }
      ],
      "source": [
        "lines.shape"
      ]
    },
    {
      "cell_type": "code",
      "execution_count": 7,
      "metadata": {
        "colab": {
          "base_uri": "https://localhost:8080/"
        },
        "id": "O4OxGPuZdgMk",
        "outputId": "f6477238-b852-4d6d-94e2-6ca592492274"
      },
      "outputs": [
        {
          "output_type": "execute_result",
          "data": {
            "text/plain": [
              "(30000, 2)"
            ]
          },
          "metadata": {},
          "execution_count": 7
        }
      ],
      "source": [
        "lines = lines[: 30000]\n",
        "lines.shape"
      ]
    },
    {
      "cell_type": "code",
      "execution_count": 8,
      "metadata": {
        "id": "KheYLDjLakMw"
      },
      "outputs": [],
      "source": [
        "lines['eng'] = lines['eng'].apply(lambda x: x.lower())\n",
        "lines['fr'] = lines['fr'].apply(lambda x: x.lower())"
      ]
    },
    {
      "cell_type": "code",
      "execution_count": 9,
      "metadata": {
        "id": "2yfq-WljakJF"
      },
      "outputs": [],
      "source": [
        "# Take the length as 50\n",
        "lines.eng=lines.eng.apply(lambda x: re.sub(\"'\", '', x)).apply(lambda x: re.sub(\",\", ' COMMA', x))\n",
        "lines.fr=lines.fr.apply(lambda x: re.sub(\"'\", '', x)).apply(lambda x: re.sub(\",\", ' COMMA', x))"
      ]
    },
    {
      "cell_type": "code",
      "execution_count": 10,
      "metadata": {
        "id": "TUO5yJBQakGC"
      },
      "outputs": [],
      "source": [
        "exclude = set(string.punctuation)\n",
        "lines.eng=lines.eng.apply(lambda x: ''.join(ch for ch in x if ch not in exclude))\n",
        "lines.fr=lines.fr.apply(lambda x: ''.join(ch for ch in x if ch not in exclude))"
      ]
    },
    {
      "cell_type": "code",
      "execution_count": 11,
      "metadata": {
        "id": "Jt3Ors9fakBC"
      },
      "outputs": [],
      "source": [
        "remove_digits = str.maketrans('', '', digits)\n",
        "lines.eng=lines.eng.apply(lambda x: x.translate(remove_digits))\n",
        "lines.fr=lines.fr.apply(lambda x: x.translate(remove_digits))"
      ]
    },
    {
      "cell_type": "code",
      "execution_count": 12,
      "metadata": {
        "colab": {
          "base_uri": "https://localhost:8080/",
          "height": 206
        },
        "id": "0obLsZEn5N2A",
        "outputId": "4f4aced7-5b8f-4df5-8e4d-664d6ece5d75"
      },
      "outputs": [
        {
          "output_type": "execute_result",
          "data": {
            "text/plain": [
              "   eng       fr\n",
              "0   go      va \n",
              "1   hi   salut \n",
              "2   hi    salut\n",
              "3  run   cours \n",
              "4  run  courez "
            ],
            "text/html": [
              "\n",
              "  <div id=\"df-1020bed1-183d-4cb3-a051-592f96dc341a\">\n",
              "    <div class=\"colab-df-container\">\n",
              "      <div>\n",
              "<style scoped>\n",
              "    .dataframe tbody tr th:only-of-type {\n",
              "        vertical-align: middle;\n",
              "    }\n",
              "\n",
              "    .dataframe tbody tr th {\n",
              "        vertical-align: top;\n",
              "    }\n",
              "\n",
              "    .dataframe thead th {\n",
              "        text-align: right;\n",
              "    }\n",
              "</style>\n",
              "<table border=\"1\" class=\"dataframe\">\n",
              "  <thead>\n",
              "    <tr style=\"text-align: right;\">\n",
              "      <th></th>\n",
              "      <th>eng</th>\n",
              "      <th>fr</th>\n",
              "    </tr>\n",
              "  </thead>\n",
              "  <tbody>\n",
              "    <tr>\n",
              "      <th>0</th>\n",
              "      <td>go</td>\n",
              "      <td>va</td>\n",
              "    </tr>\n",
              "    <tr>\n",
              "      <th>1</th>\n",
              "      <td>hi</td>\n",
              "      <td>salut</td>\n",
              "    </tr>\n",
              "    <tr>\n",
              "      <th>2</th>\n",
              "      <td>hi</td>\n",
              "      <td>salut</td>\n",
              "    </tr>\n",
              "    <tr>\n",
              "      <th>3</th>\n",
              "      <td>run</td>\n",
              "      <td>cours</td>\n",
              "    </tr>\n",
              "    <tr>\n",
              "      <th>4</th>\n",
              "      <td>run</td>\n",
              "      <td>courez</td>\n",
              "    </tr>\n",
              "  </tbody>\n",
              "</table>\n",
              "</div>\n",
              "      <button class=\"colab-df-convert\" onclick=\"convertToInteractive('df-1020bed1-183d-4cb3-a051-592f96dc341a')\"\n",
              "              title=\"Convert this dataframe to an interactive table.\"\n",
              "              style=\"display:none;\">\n",
              "        \n",
              "  <svg xmlns=\"http://www.w3.org/2000/svg\" height=\"24px\"viewBox=\"0 0 24 24\"\n",
              "       width=\"24px\">\n",
              "    <path d=\"M0 0h24v24H0V0z\" fill=\"none\"/>\n",
              "    <path d=\"M18.56 5.44l.94 2.06.94-2.06 2.06-.94-2.06-.94-.94-2.06-.94 2.06-2.06.94zm-11 1L8.5 8.5l.94-2.06 2.06-.94-2.06-.94L8.5 2.5l-.94 2.06-2.06.94zm10 10l.94 2.06.94-2.06 2.06-.94-2.06-.94-.94-2.06-.94 2.06-2.06.94z\"/><path d=\"M17.41 7.96l-1.37-1.37c-.4-.4-.92-.59-1.43-.59-.52 0-1.04.2-1.43.59L10.3 9.45l-7.72 7.72c-.78.78-.78 2.05 0 2.83L4 21.41c.39.39.9.59 1.41.59.51 0 1.02-.2 1.41-.59l7.78-7.78 2.81-2.81c.8-.78.8-2.07 0-2.86zM5.41 20L4 18.59l7.72-7.72 1.47 1.35L5.41 20z\"/>\n",
              "  </svg>\n",
              "      </button>\n",
              "      \n",
              "  <style>\n",
              "    .colab-df-container {\n",
              "      display:flex;\n",
              "      flex-wrap:wrap;\n",
              "      gap: 12px;\n",
              "    }\n",
              "\n",
              "    .colab-df-convert {\n",
              "      background-color: #E8F0FE;\n",
              "      border: none;\n",
              "      border-radius: 50%;\n",
              "      cursor: pointer;\n",
              "      display: none;\n",
              "      fill: #1967D2;\n",
              "      height: 32px;\n",
              "      padding: 0 0 0 0;\n",
              "      width: 32px;\n",
              "    }\n",
              "\n",
              "    .colab-df-convert:hover {\n",
              "      background-color: #E2EBFA;\n",
              "      box-shadow: 0px 1px 2px rgba(60, 64, 67, 0.3), 0px 1px 3px 1px rgba(60, 64, 67, 0.15);\n",
              "      fill: #174EA6;\n",
              "    }\n",
              "\n",
              "    [theme=dark] .colab-df-convert {\n",
              "      background-color: #3B4455;\n",
              "      fill: #D2E3FC;\n",
              "    }\n",
              "\n",
              "    [theme=dark] .colab-df-convert:hover {\n",
              "      background-color: #434B5C;\n",
              "      box-shadow: 0px 1px 3px 1px rgba(0, 0, 0, 0.15);\n",
              "      filter: drop-shadow(0px 1px 2px rgba(0, 0, 0, 0.3));\n",
              "      fill: #FFFFFF;\n",
              "    }\n",
              "  </style>\n",
              "\n",
              "      <script>\n",
              "        const buttonEl =\n",
              "          document.querySelector('#df-1020bed1-183d-4cb3-a051-592f96dc341a button.colab-df-convert');\n",
              "        buttonEl.style.display =\n",
              "          google.colab.kernel.accessAllowed ? 'block' : 'none';\n",
              "\n",
              "        async function convertToInteractive(key) {\n",
              "          const element = document.querySelector('#df-1020bed1-183d-4cb3-a051-592f96dc341a');\n",
              "          const dataTable =\n",
              "            await google.colab.kernel.invokeFunction('convertToInteractive',\n",
              "                                                     [key], {});\n",
              "          if (!dataTable) return;\n",
              "\n",
              "          const docLinkHtml = 'Like what you see? Visit the ' +\n",
              "            '<a target=\"_blank\" href=https://colab.research.google.com/notebooks/data_table.ipynb>data table notebook</a>'\n",
              "            + ' to learn more about interactive tables.';\n",
              "          element.innerHTML = '';\n",
              "          dataTable['output_type'] = 'display_data';\n",
              "          await google.colab.output.renderOutput(dataTable, element);\n",
              "          const docLink = document.createElement('div');\n",
              "          docLink.innerHTML = docLinkHtml;\n",
              "          element.appendChild(docLink);\n",
              "        }\n",
              "      </script>\n",
              "    </div>\n",
              "  </div>\n",
              "  "
            ]
          },
          "metadata": {},
          "execution_count": 12
        }
      ],
      "source": [
        "lines.head()"
      ]
    },
    {
      "cell_type": "markdown",
      "metadata": {
        "id": "yPazvZZN5N2A"
      },
      "source": [
        "#### Generate synthetic data"
      ]
    },
    {
      "cell_type": "code",
      "execution_count": 13,
      "metadata": {
        "id": "W_DvSP1abDyr"
      },
      "outputs": [],
      "source": [
        "lines['fr'] = lines['fr'].apply(lambda x: '<sos> ' + x + ' <eos>')"
      ]
    },
    {
      "cell_type": "code",
      "execution_count": 14,
      "metadata": {
        "colab": {
          "base_uri": "https://localhost:8080/"
        },
        "id": "Vj19Zg6KbDtI",
        "outputId": "fe6263b7-4545-4c62-d361-a88e0945a290"
      },
      "outputs": [
        {
          "output_type": "stream",
          "name": "stdout",
          "text": [
            "Total unique words in source: 4434\n",
            "Total unique words in target: 9234\n"
          ]
        }
      ],
      "source": [
        "all_source_words = set()\n",
        "for sent in lines['eng']:\n",
        "    for word in sent.split():\n",
        "        if word not in all_source_words:\n",
        "            all_source_words.add(word)\n",
        "print(f'Total unique words in source: {len(all_source_words)}')\n",
        "source_words = sorted(all_source_words)\n",
        "\n",
        "all_target_words = set()\n",
        "for sent in lines['fr']:\n",
        "    for word in sent.split():\n",
        "        if word not in all_target_words:\n",
        "            all_target_words.add(word)\n",
        "print(f'Total unique words in target: {len(all_target_words)}')\n",
        "target_words = set(all_target_words)"
      ]
    },
    {
      "cell_type": "code",
      "execution_count": 15,
      "metadata": {
        "colab": {
          "base_uri": "https://localhost:8080/"
        },
        "id": "pEeXJcktbDoI",
        "outputId": "c243da1a-0361-4855-a20f-68c0da9e6c2f"
      },
      "outputs": [
        {
          "output_type": "stream",
          "name": "stdout",
          "text": [
            "Max Length of the sentence in the source: 6\n",
            "Max Length of the sentence in the target: 14\n"
          ]
        }
      ],
      "source": [
        "source_lenght_list=[]\n",
        "for l in lines.eng:\n",
        "    source_lenght_list.append(len(l.split(' ')))\n",
        "print(f'Max Length of the sentence in the source: {max(source_lenght_list)}')\n",
        "max_source_length = max(source_lenght_list)\n",
        "\n",
        "target_lenght_list=[]\n",
        "for l in lines.fr:\n",
        "    target_lenght_list.append(len(l.split(' ')))\n",
        "print(f'Max Length of the sentence in the target: {max(target_lenght_list)}')\n",
        "max_target_length = max(target_lenght_list)"
      ]
    },
    {
      "cell_type": "code",
      "execution_count": 16,
      "metadata": {
        "id": "ZHfzzN0dbDeT"
      },
      "outputs": [],
      "source": [
        "# this can be done using tokenizer also\n",
        "\n",
        "source_word2idx = dict(\n",
        "    [(word, index+1) for index, word in enumerate(source_words)]\n",
        "     )\n",
        "\n",
        "target_word2idx = dict(\n",
        "    [(word, index+1) for index, word in enumerate(target_words)]\n",
        "    )"
      ]
    },
    {
      "cell_type": "code",
      "source": [
        "target_word2idx['<sos>']"
      ],
      "metadata": {
        "colab": {
          "base_uri": "https://localhost:8080/"
        },
        "id": "NfK7AI7HBy0a",
        "outputId": "c5f6c824-72cc-4f5d-bd39-8717e25b8929"
      },
      "execution_count": 17,
      "outputs": [
        {
          "output_type": "execute_result",
          "data": {
            "text/plain": [
              "5972"
            ]
          },
          "metadata": {},
          "execution_count": 17
        }
      ]
    },
    {
      "cell_type": "code",
      "execution_count": 18,
      "metadata": {
        "id": "A0Q37Xo0FSLf"
      },
      "outputs": [],
      "source": [
        "# creating dict for index to word for source and target lang for inference\n",
        "source_idx2word = dict([\n",
        "    (idx, word) for word, idx in source_word2idx.items()\n",
        "])\n",
        "\n",
        "target_idx2word = dict([\n",
        "    (idx, word) for word, idx in target_word2idx.items()\n",
        "])"
      ]
    },
    {
      "cell_type": "code",
      "execution_count": 19,
      "metadata": {
        "id": "5w_4wWAsFSIz"
      },
      "outputs": [],
      "source": [
        "# splitting data\n",
        "from sklearn.model_selection import train_test_split\n",
        "\n",
        "X, y = lines.eng, lines.fr\n",
        "X_train, X_test, y_train, y_test = train_test_split(X, y, test_size = 0.1)"
      ]
    },
    {
      "cell_type": "code",
      "execution_count": 20,
      "metadata": {
        "id": "Vsb2Qtc1FSGO"
      },
      "outputs": [],
      "source": [
        "# Input tokens for encoder\n",
        "num_encoder_tokens=len(source_words)\n",
        "# Input tokens for decoder zero padded\n",
        "num_decoder_tokens=len(target_words) +1"
      ]
    },
    {
      "cell_type": "code",
      "execution_count": 21,
      "metadata": {
        "id": "w-l4eBvJFSD3"
      },
      "outputs": [],
      "source": [
        "def generate_batch(X = X_train, y = y_train, batch_size = 128):\n",
        "    ''' Generate a batch of data '''\n",
        "    while True:\n",
        "        for j in range(0, len(X), batch_size):\n",
        "            encoder_input_data = np.zeros((batch_size, max_source_length),dtype='float32')\n",
        "            decoder_input_data = np.zeros((batch_size, max_target_length),dtype='float32')\n",
        "            decoder_target_data = np.zeros((batch_size, max_target_length, num_decoder_tokens),dtype='float32')\n",
        "            \n",
        "            for i, (input_text, target_text) in enumerate(zip(X[j:j+batch_size], y[j:j+batch_size])):\n",
        "                for t, word in enumerate(input_text.split()):\n",
        "                    encoder_input_data[i, t] = source_word2idx[word] \n",
        "                for t, word in enumerate(target_text.split()):\n",
        "                    if t<len(target_text.split())-1:\n",
        "                        decoder_input_data[i, t] = target_word2idx[word] # decoder input seq\n",
        "                    if t>0:\n",
        "                        # decoder target sequence (one hot encoded)\n",
        "                        # does not include the START_ token\n",
        "                        # Offset by one timestep\n",
        "                        #print(word)\n",
        "                        decoder_target_data[i, t - 1, target_word2idx[word]] = 1.\n",
        "                    \n",
        "            yield([encoder_input_data, decoder_input_data], decoder_target_data)"
      ]
    },
    {
      "cell_type": "markdown",
      "metadata": {
        "id": "hgSe9lQprLv2"
      },
      "source": [
        "# Model building"
      ]
    },
    {
      "cell_type": "code",
      "source": [
        "# del model"
      ],
      "metadata": {
        "id": "y7hfgUIe4iSu"
      },
      "execution_count": 22,
      "outputs": []
    },
    {
      "cell_type": "code",
      "execution_count": 23,
      "metadata": {
        "id": "4M_m-9bzpuSh"
      },
      "outputs": [],
      "source": [
        "train_samples = len(X_train)\n",
        "val_samples = len(X_test)\n",
        "batch_size = 128\n",
        "epochs = 50\n",
        "latent_dim=256"
      ]
    },
    {
      "cell_type": "code",
      "execution_count": 24,
      "metadata": {
        "colab": {
          "base_uri": "https://localhost:8080/"
        },
        "id": "VZG-WfD4ARCe",
        "outputId": "5823e8c4-1874-415f-d14d-f8e7e881b00b"
      },
      "outputs": [
        {
          "output_type": "execute_result",
          "data": {
            "text/plain": [
              "(4434, 9235)"
            ]
          },
          "metadata": {},
          "execution_count": 24
        }
      ],
      "source": [
        "num_encoder_tokens, num_decoder_tokens"
      ]
    },
    {
      "cell_type": "code",
      "execution_count": 25,
      "metadata": {
        "id": "3cRE7I16i6zD"
      },
      "outputs": [],
      "source": [
        "import keras\n",
        "from keras.models import Model\n",
        "from keras.layers import Input, Embedding, LSTM, Dense"
      ]
    },
    {
      "cell_type": "code",
      "execution_count": 26,
      "metadata": {
        "id": "QDj217dKrPWd"
      },
      "outputs": [],
      "source": [
        "encode_inputs = Input(shape = (None,))\n",
        "enc_embedding = Embedding(num_encoder_tokens + 1, 256)(encode_inputs)\n",
        "\n",
        "encoder_lstm = LSTM(256, return_state = True)\n",
        "encoder_out, state_h, state_c = encoder_lstm(enc_embedding) \n",
        "\n",
        "encoder_states = [state_h, state_c]"
      ]
    },
    {
      "cell_type": "code",
      "execution_count": 27,
      "metadata": {
        "colab": {
          "base_uri": "https://localhost:8080/"
        },
        "id": "_YZqIDBhSY5j",
        "outputId": "d9a30895-874c-4227-dbcf-15a3bf2ae723"
      },
      "outputs": [
        {
          "output_type": "execute_result",
          "data": {
            "text/plain": [
              "[<KerasTensor: shape=(None, 256) dtype=float32 (created by layer 'lstm')>,\n",
              " <KerasTensor: shape=(None, 256) dtype=float32 (created by layer 'lstm')>]"
            ]
          },
          "metadata": {},
          "execution_count": 27
        }
      ],
      "source": [
        "encoder_states"
      ]
    },
    {
      "cell_type": "code",
      "execution_count": 28,
      "metadata": {
        "id": "dYSPp7tx_ZdY"
      },
      "outputs": [],
      "source": [
        "# building decoder\n",
        "# decoder_inputs = Input(shape = (None, ))\n",
        "# decoder_embedding = Embedding(num_decoder_tokens + 1, latent_dim, mask_zero = True)#(decoder_inputs)\n",
        "# dec_emb = decoder_embedding(decoder_inputs)\n",
        "\n",
        "decoder_inputs = Input(shape=(None,))\n",
        "dec_emb_layer = Embedding(num_decoder_tokens, latent_dim, mask_zero = True)\n",
        "dec_emb = dec_emb_layer(decoder_inputs)\n",
        "\n",
        "decoder_lstm = LSTM(latent_dim, return_sequences = True, return_state = True)\n",
        "\n",
        "decoder_outputs, _, _ = decoder_lstm(dec_emb, initial_state = encoder_states)\n",
        "\n",
        "decoder_dense = Dense(num_decoder_tokens, activation = 'softmax')\n",
        "\n",
        "decoder_outputs = decoder_dense(decoder_outputs)"
      ]
    },
    {
      "cell_type": "code",
      "execution_count": 29,
      "metadata": {
        "id": "pq2hOspfEzLx"
      },
      "outputs": [],
      "source": [
        "model = Model([encode_inputs, decoder_inputs], decoder_outputs)"
      ]
    },
    {
      "cell_type": "code",
      "execution_count": 30,
      "metadata": {
        "colab": {
          "base_uri": "https://localhost:8080/",
          "height": 533
        },
        "id": "cdK_vhD5FOAe",
        "outputId": "ed8a688d-ede4-49c9-99f5-a51bb43c4635"
      },
      "outputs": [
        {
          "output_type": "execute_result",
          "data": {
            "image/png": "[encoded data removed]",
            "text/plain": [
              "<IPython.core.display.Image object>"
            ]
          },
          "metadata": {},
          "execution_count": 30
        }
      ],
      "source": [
        "from keras.utils import plot_model\n",
        "plot_model(model, to_file='/content/drive/MyDrive/Machine Translation Keras/model_plot_dec.png', show_shapes=True, show_layer_names=True)"
      ]
    },
    {
      "cell_type": "code",
      "execution_count": 31,
      "metadata": {
        "id": "sn1xncYVGhzO"
      },
      "outputs": [],
      "source": [
        "model.compile(optimizer = 'adam', loss = 'categorical_crossentropy', metrics = ['acc'])"
      ]
    },
    {
      "cell_type": "code",
      "execution_count": 32,
      "metadata": {
        "id": "46efJiCkTBYz"
      },
      "outputs": [],
      "source": [
        "train_samples = len(X_train) # Total Training samples\n",
        "val_samples = len(X_test)    # Total validation or test samples\n",
        "batch_size = 128\n",
        "epochs = 50"
      ]
    },
    {
      "cell_type": "code",
      "execution_count": 33,
      "metadata": {
        "colab": {
          "base_uri": "https://localhost:8080/"
        },
        "id": "EW4wYK9MTBlp",
        "outputId": "d6df3d44-09fe-4dcf-c230-fb4cb3f2f8ed"
      },
      "outputs": [
        {
          "output_type": "stream",
          "name": "stdout",
          "text": [
            "Epoch 1/50\n",
            "210/210 [==============================] - 188s 861ms/step - loss: 5.5973 - acc: 0.2412 - val_loss: 4.9682 - val_acc: 0.2724\n",
            "Epoch 2/50\n",
            "210/210 [==============================] - 180s 856ms/step - loss: 4.6095 - acc: 0.2944 - val_loss: 4.4622 - val_acc: 0.3205\n",
            "Epoch 3/50\n",
            "210/210 [==============================] - 187s 893ms/step - loss: 4.0711 - acc: 0.3506 - val_loss: 3.9786 - val_acc: 0.3854\n",
            "Epoch 4/50\n",
            "210/210 [==============================] - 188s 894ms/step - loss: 3.5539 - acc: 0.4189 - val_loss: 3.6188 - val_acc: 0.4397\n",
            "Epoch 5/50\n",
            "210/210 [==============================] - 188s 896ms/step - loss: 3.1752 - acc: 0.4599 - val_loss: 3.3827 - val_acc: 0.4665\n",
            "Epoch 6/50\n",
            "210/210 [==============================] - 195s 925ms/step - loss: 2.8797 - acc: 0.4891 - val_loss: 3.2099 - val_acc: 0.4857\n",
            "Epoch 7/50\n",
            "210/210 [==============================] - 190s 904ms/step - loss: 2.6250 - acc: 0.5149 - val_loss: 3.0664 - val_acc: 0.5022\n",
            "Epoch 8/50\n",
            "210/210 [==============================] - 192s 910ms/step - loss: 2.4021 - acc: 0.5382 - val_loss: 2.9567 - val_acc: 0.5177\n",
            "Epoch 9/50\n",
            "210/210 [==============================] - 190s 905ms/step - loss: 2.2048 - acc: 0.5597 - val_loss: 2.8655 - val_acc: 0.5306\n",
            "Epoch 10/50\n",
            "210/210 [==============================] - 198s 946ms/step - loss: 2.0300 - acc: 0.5803 - val_loss: 2.8025 - val_acc: 0.5374\n",
            "Epoch 11/50\n",
            "210/210 [==============================] - 191s 912ms/step - loss: 1.8701 - acc: 0.6011 - val_loss: 2.7294 - val_acc: 0.5456\n",
            "Epoch 12/50\n",
            "210/210 [==============================] - 190s 904ms/step - loss: 1.7196 - acc: 0.6208 - val_loss: 2.6928 - val_acc: 0.5523\n",
            "Epoch 13/50\n",
            "210/210 [==============================] - 199s 950ms/step - loss: 1.5794 - acc: 0.6419 - val_loss: 2.6392 - val_acc: 0.5590\n",
            "Epoch 14/50\n",
            "210/210 [==============================] - 190s 905ms/step - loss: 1.4474 - acc: 0.6631 - val_loss: 2.5865 - val_acc: 0.5672\n",
            "Epoch 15/50\n",
            "210/210 [==============================] - 191s 911ms/step - loss: 1.3236 - acc: 0.6853 - val_loss: 2.5569 - val_acc: 0.5752\n",
            "Epoch 16/50\n",
            "210/210 [==============================] - 199s 946ms/step - loss: 1.2069 - acc: 0.7079 - val_loss: 2.5139 - val_acc: 0.5839\n",
            "Epoch 17/50\n",
            "210/210 [==============================] - 190s 905ms/step - loss: 1.1011 - acc: 0.7297 - val_loss: 2.4914 - val_acc: 0.5868\n",
            "Epoch 18/50\n",
            "210/210 [==============================] - 190s 907ms/step - loss: 1.0029 - acc: 0.7496 - val_loss: 2.4508 - val_acc: 0.5948\n",
            "Epoch 19/50\n",
            "210/210 [==============================] - 198s 944ms/step - loss: 0.9119 - acc: 0.7708 - val_loss: 2.4471 - val_acc: 0.5967\n",
            "Epoch 20/50\n",
            "210/210 [==============================] - 191s 911ms/step - loss: 0.8300 - acc: 0.7898 - val_loss: 2.4359 - val_acc: 0.6013\n",
            "Epoch 21/50\n",
            "210/210 [==============================] - 190s 907ms/step - loss: 0.7550 - acc: 0.8081 - val_loss: 2.4248 - val_acc: 0.6035\n",
            "Epoch 22/50\n",
            "210/210 [==============================] - 198s 943ms/step - loss: 0.6915 - acc: 0.8226 - val_loss: 2.4165 - val_acc: 0.6046\n",
            "Epoch 23/50\n",
            "210/210 [==============================] - 191s 911ms/step - loss: 0.6328 - acc: 0.8355 - val_loss: 2.4258 - val_acc: 0.6061\n",
            "Epoch 24/50\n",
            "210/210 [==============================] - 192s 910ms/step - loss: 0.5843 - acc: 0.8459 - val_loss: 2.4189 - val_acc: 0.6088\n",
            "Epoch 25/50\n",
            "210/210 [==============================] - 198s 945ms/step - loss: 0.5399 - acc: 0.8556 - val_loss: 2.4191 - val_acc: 0.6109\n",
            "Epoch 26/50\n",
            "210/210 [==============================] - 190s 907ms/step - loss: 0.5004 - acc: 0.8639 - val_loss: 2.4327 - val_acc: 0.6123\n",
            "Epoch 27/50\n",
            "210/210 [==============================] - 191s 911ms/step - loss: 0.4684 - acc: 0.8694 - val_loss: 2.4227 - val_acc: 0.6174\n",
            "Epoch 28/50\n",
            "210/210 [==============================] - 190s 906ms/step - loss: 0.4395 - acc: 0.8757 - val_loss: 2.4274 - val_acc: 0.6196\n",
            "Epoch 29/50\n",
            "210/210 [==============================] - 199s 951ms/step - loss: 0.4115 - acc: 0.8813 - val_loss: 2.4415 - val_acc: 0.6205\n",
            "Epoch 30/50\n",
            "210/210 [==============================] - 192s 917ms/step - loss: 0.3827 - acc: 0.8880 - val_loss: 2.4615 - val_acc: 0.6177\n",
            "Epoch 31/50\n",
            "210/210 [==============================] - 190s 907ms/step - loss: 0.3572 - acc: 0.8936 - val_loss: 2.4714 - val_acc: 0.6190\n",
            "Epoch 32/50\n",
            "210/210 [==============================] - 198s 944ms/step - loss: 0.3327 - acc: 0.8994 - val_loss: 2.4792 - val_acc: 0.6220\n",
            "Epoch 33/50\n",
            "210/210 [==============================] - 192s 914ms/step - loss: 0.3111 - acc: 0.9046 - val_loss: 2.4909 - val_acc: 0.6203\n",
            "Epoch 34/50\n",
            "210/210 [==============================] - 191s 909ms/step - loss: 0.2925 - acc: 0.9090 - val_loss: 2.5092 - val_acc: 0.6176\n",
            "Epoch 35/50\n",
            "210/210 [==============================] - 199s 947ms/step - loss: 0.2776 - acc: 0.9132 - val_loss: 2.5212 - val_acc: 0.6167\n",
            "Epoch 36/50\n",
            "210/210 [==============================] - 190s 906ms/step - loss: 0.2643 - acc: 0.9162 - val_loss: 2.5576 - val_acc: 0.6131\n",
            "Epoch 37/50\n",
            "210/210 [==============================] - 192s 913ms/step - loss: 0.2531 - acc: 0.9187 - val_loss: 2.5530 - val_acc: 0.6180\n",
            "Epoch 38/50\n",
            "210/210 [==============================] - 199s 949ms/step - loss: 0.2438 - acc: 0.9208 - val_loss: 2.5736 - val_acc: 0.6198\n",
            "Epoch 39/50\n",
            "210/210 [==============================] - 190s 907ms/step - loss: 0.2359 - acc: 0.9214 - val_loss: 2.5853 - val_acc: 0.6200\n",
            "Epoch 40/50\n",
            "210/210 [==============================] - 191s 912ms/step - loss: 0.2286 - acc: 0.9234 - val_loss: 2.6089 - val_acc: 0.6208\n",
            "Epoch 41/50\n",
            "210/210 [==============================] - 197s 939ms/step - loss: 0.2234 - acc: 0.9243 - val_loss: 2.6284 - val_acc: 0.6184\n",
            "Epoch 42/50\n",
            "210/210 [==============================] - 189s 900ms/step - loss: 0.2168 - acc: 0.9250 - val_loss: 2.6505 - val_acc: 0.6210\n",
            "Epoch 43/50\n",
            "210/210 [==============================] - 189s 899ms/step - loss: 0.2099 - acc: 0.9268 - val_loss: 2.6772 - val_acc: 0.6213\n",
            "Epoch 44/50\n",
            "210/210 [==============================] - 200s 953ms/step - loss: 0.2028 - acc: 0.9283 - val_loss: 2.6838 - val_acc: 0.6208\n",
            "Epoch 45/50\n",
            "210/210 [==============================] - 190s 904ms/step - loss: 0.1970 - acc: 0.9299 - val_loss: 2.6904 - val_acc: 0.6183\n",
            "Epoch 46/50\n",
            "210/210 [==============================] - 190s 905ms/step - loss: 0.1919 - acc: 0.9311 - val_loss: 2.7005 - val_acc: 0.6177\n",
            "Epoch 47/50\n",
            "210/210 [==============================] - 189s 900ms/step - loss: 0.1869 - acc: 0.9327 - val_loss: 2.7000 - val_acc: 0.6193\n",
            "Epoch 48/50\n",
            "210/210 [==============================] - 196s 935ms/step - loss: 0.1830 - acc: 0.9332 - val_loss: 2.7171 - val_acc: 0.6204\n",
            "Epoch 49/50\n",
            "210/210 [==============================] - 188s 895ms/step - loss: 0.1780 - acc: 0.9349 - val_loss: 2.7388 - val_acc: 0.6198\n",
            "Epoch 50/50\n",
            "210/210 [==============================] - 189s 900ms/step - loss: 0.1744 - acc: 0.9348 - val_loss: 2.7504 - val_acc: 0.6191\n"
          ]
        }
      ],
      "source": [
        "history = model.fit(generate_batch(X_train, y_train, batch_size = batch_size),\n",
        "                    steps_per_epoch = train_samples//batch_size,\n",
        "                    epochs=epochs,\n",
        "                    validation_data = generate_batch(X_test, y_test, batch_size = batch_size),\n",
        "                    validation_steps = val_samples//batch_size)"
      ]
    },
    {
      "cell_type": "code",
      "execution_count": 34,
      "metadata": {
        "id": "B7mN61ifTlNV"
      },
      "outputs": [],
      "source": [
        "model.save_weights('/content/drive/MyDrive/Machine Translation Keras/nmt_weights_100epochs.h5')"
      ]
    },
    {
      "cell_type": "code",
      "execution_count": 35,
      "metadata": {
        "id": "MerAPeXNAvhj"
      },
      "outputs": [],
      "source": [
        "# loading weights\n",
        "model_path = '/content/drive/MyDrive/Machine Translation Keras/nmt_weights_100epochs.h5'"
      ]
    },
    {
      "cell_type": "code",
      "execution_count": 36,
      "metadata": {
        "id": "qzD401cokDRr"
      },
      "outputs": [],
      "source": [
        "from keras.models import load_model"
      ]
    },
    {
      "cell_type": "code",
      "execution_count": 38,
      "metadata": {
        "id": "92z2qI25jMqE"
      },
      "outputs": [],
      "source": [
        "# model = load_model(model_path)"
      ]
    },
    {
      "cell_type": "code",
      "execution_count": 39,
      "metadata": {
        "id": "yYP-xvcQjQrI"
      },
      "outputs": [],
      "source": [
        "# encoder inputs\n",
        "encoder_model = Model(encode_inputs, encoder_states)\n",
        "\n",
        "# decoder model\n",
        "# this will be placeholder for decoder states\n",
        "decoder_state_input_h = Input(shape = (latent_dim, ))\n",
        "decoder_state_input_c = Input(shape = (latent_dim, ))\n",
        "\n",
        "decoder_state_input = [decoder_state_input_h, decoder_state_input_c]\n",
        "\n",
        "decoder_embedding2 = dec_emb_layer(decoder_inputs)\n",
        "\n",
        "# To predict the next word in the sequence, set the initial states to the states from the previous time step\n",
        "decoder_outputs2, state_h2, state_c2 = decoder_lstm(decoder_embedding2, initial_state=decoder_state_input)\n",
        "\n",
        "decoder_states2 = [state_h2, state_c2]\n",
        "# A dense softmax layer to generate prob dist. over the target vocabulary\n",
        "decoder_outputs2 = decoder_dense(decoder_outputs2)\n",
        "# Final decoder model\n",
        "decoder_model = Model([decoder_inputs] + decoder_state_input, [decoder_outputs2] + decoder_states2)"
      ]
    },
    {
      "cell_type": "code",
      "execution_count": 40,
      "metadata": {
        "id": "uGpE3380o2AM"
      },
      "outputs": [],
      "source": [
        "# Encode the input sequence to get the \"Context vectors\"\n",
        "encoder_model = Model(encode_inputs, encoder_states)\n",
        "# Decoder setup\n",
        "# Below tensors will hold the states of the previous time step\n",
        "decoder_state_input_h = Input(shape=(latent_dim,))\n",
        "decoder_state_input_c = Input(shape=(latent_dim,))\n",
        "decoder_state_input = [decoder_state_input_h, decoder_state_input_c]\n",
        "# Get the embeddings of the decoder sequence\n",
        "dec_emb2= dec_emb_layer(decoder_inputs)\n",
        "# To predict the next word in the sequence, set the initial states to the states from the previous time step\n",
        "decoder_outputs2, state_h2, state_c2 = decoder_lstm(dec_emb2, initial_state=decoder_state_input)\n",
        "decoder_states2 = [state_h2, state_c2]\n",
        "# A dense softmax layer to generate prob dist. over the target vocabulary\n",
        "decoder_outputs2 = decoder_dense(decoder_outputs2)\n",
        "# Final decoder model\n",
        "decoder_model = Model(\n",
        "    [decoder_inputs] + decoder_state_input,\n",
        "    [decoder_outputs2] + decoder_states2)"
      ]
    },
    {
      "cell_type": "code",
      "source": [
        "def decode_sequence(input_seq):\n",
        "    # Encode the input as state vectors.\n",
        "    states_value = encoder_model.predict(input_seq)\n",
        "    # Generate empty target sequence of length 1.\n",
        "    target_seq = np.zeros((1,1))\n",
        "    # Populate the first character of \n",
        "    #target sequence with the start character.\n",
        "    target_seq[0, 0] = target_word2idx['<sos>']\n",
        "# Sampling loop for a batch of sequences\n",
        "    # (to simplify, here we assume a batch of size 1).\n",
        "    stop_condition = False\n",
        "    decoded_sentence = ''\n",
        "    while not stop_condition:\n",
        "        output_tokens, h, c = decoder_model.predict([target_seq] + states_value)\n",
        "# Sample a token\n",
        "        sampled_token_index = np.argmax(output_tokens[0, -1, :])\n",
        "        sampled_word =target_idx2word[sampled_token_index]\n",
        "        decoded_sentence += ' '+ sampled_word\n",
        "# Exit condition: either hit max length\n",
        "        # or find stop character.\n",
        "        if (sampled_word == '<eos>' or\n",
        "           len(decoded_sentence) > 50):\n",
        "            stop_condition = True\n",
        "# Update the target sequence (of length 1).\n",
        "        target_seq = np.zeros((1,1))\n",
        "        target_seq[0, 0] = sampled_token_index\n",
        "# Update states\n",
        "        states_value = [h, c]\n",
        "    return decoded_sentence"
      ],
      "metadata": {
        "id": "CRQc-TGyAvUt"
      },
      "execution_count": 41,
      "outputs": []
    },
    {
      "cell_type": "code",
      "source": [
        "# Make predictions on the training dataset\n",
        "train_gen = generate_batch(X_train, y_train, batch_size = 1)\n",
        "k=-1"
      ],
      "metadata": {
        "id": "-RDWTnhjA5fa"
      },
      "execution_count": 42,
      "outputs": []
    },
    {
      "cell_type": "code",
      "source": [
        "k+=1\n",
        "(input_seq, actual_output), _ = next(train_gen)\n",
        "decoded_sentence = decode_sequence(input_seq)\n",
        "print('Input Source sentence:', X_train[k:k+1].values[0])\n",
        "print('Actual Target Translation:', y_train[k:k+1].values[0][6:-4])\n",
        "print('Predicted Target Translation:', decoded_sentence[:-4])"
      ],
      "metadata": {
        "colab": {
          "base_uri": "https://localhost:8080/"
        },
        "id": "HsYiwVKjA8dp",
        "outputId": "086a8d39-f390-4db5-b6b1-4d8b15eccbe1"
      },
      "execution_count": 43,
      "outputs": [
        {
          "output_type": "stream",
          "name": "stdout",
          "text": [
            "1/1 [==============================] - 0s 394ms/step\n",
            "1/1 [==============================] - 1s 1s/step\n",
            "1/1 [==============================] - 0s 21ms/step\n",
            "1/1 [==============================] - 0s 22ms/step\n",
            "1/1 [==============================] - 0s 23ms/step\n",
            "Input Source sentence: lets move the bed\n",
            "Actual Target Translation: bougeons le lit  <\n",
            "Predicted Target Translation:  bougeons le lit <\n"
          ]
        }
      ]
    },
    {
      "cell_type": "code",
      "source": [
        "test_gen = generate_batch(X_test, y_test, batch_size = 1)\n",
        "k=10\n",
        "k+=1\n",
        "(input_seq, actual_output), _ = next(test_gen)\n",
        "decoded_sentence = decode_sequence(input_seq)\n",
        "print('Input Source sentence:', X_test[k:k+1].values[0])\n",
        "print('Actual Target Translation:', y_test[k:k+1].values[0][6:-4])\n",
        "print('Predicted Target Translation:', decoded_sentence[:-4])"
      ],
      "metadata": {
        "colab": {
          "base_uri": "https://localhost:8080/"
        },
        "id": "MIcbl9TRBAyy",
        "outputId": "3398f739-a216-4274-80aa-2823d9baa5b7"
      },
      "execution_count": 44,
      "outputs": [
        {
          "output_type": "stream",
          "name": "stdout",
          "text": [
            "1/1 [==============================] - 0s 20ms/step\n",
            "1/1 [==============================] - 0s 21ms/step\n",
            "1/1 [==============================] - 0s 21ms/step\n",
            "1/1 [==============================] - 0s 19ms/step\n",
            "1/1 [==============================] - 0s 23ms/step\n",
            "1/1 [==============================] - 0s 21ms/step\n",
            "Input Source sentence: its your choice\n",
            "Actual Target Translation: cest ton choix <\n",
            "Predicted Target Translation:  tu passes en premier <\n"
          ]
        }
      ]
    },
    {
      "cell_type": "markdown",
      "source": [
        "### we get correct predictions on some results but few are wrong.\n",
        "    - The reason could be:\n",
        "        - More data is needed to train the model.\n",
        "        - Overfitting can be removed using mre data and hyperparameter tunung.\n",
        "        - BLEU score can be used to measure the accutacy of the model."
      ],
      "metadata": {
        "id": "ZkEnNdNb9a4x"
      }
    },
    {
      "cell_type": "code",
      "source": [],
      "metadata": {
        "id": "mnU0xyXt9yoY"
      },
      "execution_count": null,
      "outputs": []
    }
  ],
  "metadata": {
    "colab": {
      "provenance": []
    },
    "kernelspec": {
      "display_name": "Python 3 (ipykernel)",
      "language": "python",
      "name": "python3"
    },
    "language_info": {
      "codemirror_mode": {
        "name": "ipython",
        "version": 3
      },
      "file_extension": ".py",
      "mimetype": "text/x-python",
      "name": "python",
      "nbconvert_exporter": "python",
      "pygments_lexer": "ipython3",
      "version": "3.9.11"
    }
  },
  "nbformat": 4,
  "nbformat_minor": 0
}